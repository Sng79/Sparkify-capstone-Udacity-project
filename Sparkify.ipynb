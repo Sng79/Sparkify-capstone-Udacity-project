{
 "cells": [
  {
   "cell_type": "markdown",
   "metadata": {},
   "source": [
    "# Sparkify Project Workspace\n",
    "This workspace contains a tiny subset (128MB) of the full dataset available (12GB). Feel free to use this workspace to build your project, or to explore a smaller subset with Spark before deploying your cluster on the cloud. Instructions for setting up your Spark cluster is included in the last lesson of the Extracurricular Spark Course content.\n",
    "\n",
    "You can follow the steps below to guide your data analysis and model building portion of this project."
   ]
  },
  {
   "cell_type": "code",
   "execution_count": 68,
   "metadata": {},
   "outputs": [],
   "source": [
    "# import libraries\n",
    "\n",
    "from pyspark.sql.functions import udf\n",
    "from pyspark.sql.types import StringType\n",
    "from pyspark.sql.types import IntegerType\n",
    "from pyspark.sql.functions import desc\n",
    "from pyspark.sql.functions import asc\n",
    "from pyspark.sql.functions import sum as Fsum\n",
    "import pyspark.sql.functions as F\n",
    "from pyspark.sql.functions import avg, col, concat, desc, explode, lit, min, max, split, udf, count, when, isnull, collect_list\n",
    "\n",
    "import datetime\n",
    "\n",
    "from pyspark.sql import Window\n",
    "import pandas as pd\n",
    "import numpy as np\n",
    "from matplotlib import pyplot as plt\n",
    "%matplotlib inline\n",
    "\n",
    "import re\n",
    "from pyspark.sql import functions as sF\n",
    "from pyspark.sql import types as sT\n",
    "import seaborn as sns\n",
    "from functools import reduce"
   ]
  },
  {
   "cell_type": "code",
   "execution_count": 69,
   "metadata": {},
   "outputs": [],
   "source": [
    "# create a Spark session\n",
    "from pyspark.sql import SparkSession"
   ]
  },
  {
   "cell_type": "code",
   "execution_count": 70,
   "metadata": {},
   "outputs": [],
   "source": [
    "from pyspark.ml.feature import Normalizer, StandardScaler, VectorAssembler\n",
    "from pyspark.ml.classification import LinearSVC, NaiveBayes,RandomForestClassifier, DecisionTreeClassifier, GBTClassifier\n",
    "from pyspark.ml.evaluation import MulticlassClassificationEvaluator\n",
    "from pyspark.ml.tuning import CrossValidator, ParamGridBuilder\n",
    "from pyspark.ml.feature import StopWordsRemover, StringIndexer, VectorAssembler\n"
   ]
  },
  {
   "cell_type": "code",
   "execution_count": 71,
   "metadata": {},
   "outputs": [],
   "source": [
    "from pyspark.ml.tuning import CrossValidatorModel as mlm\n",
    "\n",
    "spark = SparkSession.builder.appName('pandasToSparkDF').getOrCreate()\n"
   ]
  },
  {
   "cell_type": "code",
   "execution_count": 72,
   "metadata": {},
   "outputs": [],
   "source": [
    "spark = SparkSession.builder.appName(\"Sparkify\").getOrCreate()"
   ]
  },
  {
   "cell_type": "markdown",
   "metadata": {},
   "source": [
    "# Load and Clean Dataset\n",
    "In this workspace, the mini-dataset file is `mini_sparkify_event_data.json`. Load and clean the dataset, checking for invalid or missing data - for example, records without userids or sessionids. "
   ]
  },
  {
   "cell_type": "code",
   "execution_count": 73,
   "metadata": {},
   "outputs": [
    {
     "data": {
      "text/plain": [
       "['artist',\n",
       " 'auth',\n",
       " 'firstName',\n",
       " 'gender',\n",
       " 'itemInSession',\n",
       " 'lastName',\n",
       " 'length',\n",
       " 'level',\n",
       " 'location',\n",
       " 'method',\n",
       " 'page',\n",
       " 'registration',\n",
       " 'sessionId',\n",
       " 'song',\n",
       " 'status',\n",
       " 'ts',\n",
       " 'userAgent',\n",
       " 'userId']"
      ]
     },
     "execution_count": 73,
     "metadata": {},
     "output_type": "execute_result"
    }
   ],
   "source": [
    "#load data\n",
    "data_path = 'mini_sparkify_event_data.json'\n",
    "df = spark.read.json(data_path)\n",
    "# See the data columns\n",
    "df.columns"
   ]
  },
  {
   "cell_type": "code",
   "execution_count": 74,
   "metadata": {},
   "outputs": [
    {
     "name": "stdout",
     "output_type": "stream",
     "text": [
      "(286500, 18)\n"
     ]
    }
   ],
   "source": [
    "print((df.count(), len(df.columns)))"
   ]
  },
  {
   "cell_type": "code",
   "execution_count": 75,
   "metadata": {},
   "outputs": [
    {
     "data": {
      "text/plain": [
       "286500"
      ]
     },
     "execution_count": 75,
     "metadata": {},
     "output_type": "execute_result"
    }
   ],
   "source": [
    "#drop NA\n",
    "df = df.dropna(how = \"any\", subset = [\"userId\", \"sessionId\"])\n",
    "df.count()"
   ]
  },
  {
   "cell_type": "code",
   "execution_count": 76,
   "metadata": {},
   "outputs": [
    {
     "data": {
      "text/plain": [
       "278154"
      ]
     },
     "execution_count": 76,
     "metadata": {},
     "output_type": "execute_result"
    }
   ],
   "source": [
    "#clean empty users\n",
    "df = df.filter(df.userId!=\"\")\n",
    "df.count()"
   ]
  },
  {
   "cell_type": "code",
   "execution_count": 77,
   "metadata": {},
   "outputs": [
    {
     "data": {
      "text/plain": [
       "DataFrame[artist: string, auth: string, firstName: string, gender: string, itemInSession: bigint, lastName: string, length: double, level: string, location: string, method: string, page: string, registration: bigint, sessionId: bigint, song: string, status: bigint, ts: bigint, userAgent: string, userId: string, time: string]"
      ]
     },
     "execution_count": 77,
     "metadata": {},
     "output_type": "execute_result"
    }
   ],
   "source": [
    "# add time \n",
    "get_time = udf(lambda x: datetime.datetime.fromtimestamp(x / 1000.0).strftime(\"%Y-%m-%d %H:%M:%S\"))\n",
    "df = df.withColumn(\"time\", get_time(df.ts))\n",
    "df"
   ]
  },
  {
   "cell_type": "code",
   "execution_count": 78,
   "metadata": {},
   "outputs": [
    {
     "name": "stdout",
     "output_type": "stream",
     "text": [
      "+------+\n",
      "|userId|\n",
      "+------+\n",
      "|    10|\n",
      "|   100|\n",
      "|100001|\n",
      "|100002|\n",
      "|100003|\n",
      "+------+\n",
      "only showing top 5 rows\n",
      "\n"
     ]
    }
   ],
   "source": [
    "# inspect 'userId' column\n",
    "df.select('userId').dropDuplicates().sort('userId').show(5)\n",
    "# drop empty strings\n",
    "df= df.filter(df['userId'] != '')"
   ]
  },
  {
   "cell_type": "markdown",
   "metadata": {},
   "source": [
    "# Exploratory Data Analysis\n",
    "When you're working with the full dataset, perform EDA by loading a small subset of the data and doing basic manipulations within Spark. In this workspace, you are already provided a small subset of data you can explore.\n",
    "\n",
    "### Define Churn\n",
    "\n",
    "Once you've done some preliminary analysis, create a column `Churn` to use as the label for your model. I suggest using the `Cancellation Confirmation` events to define your churn, which happen for both paid and free users. As a bonus task, you can also look into the `Downgrade` events.\n",
    "\n",
    "### Explore Data\n",
    "Once you've defined churn, perform some exploratory data analysis to observe the behavior for users who stayed vs users who churned. You can start by exploring aggregates on these two groups of users, observing how much of a specific action they experienced per a certain time unit or number of songs played."
   ]
  },
  {
   "cell_type": "code",
   "execution_count": 79,
   "metadata": {},
   "outputs": [
    {
     "data": {
      "text/plain": [
       "Row(artist='Martha Tilston', auth='Logged In', firstName='Colin', gender='M', itemInSession=50, lastName='Freeman', length=277.89016, level='paid', location='Bakersfield, CA', method='PUT', page='NextSong', registration=1538173362000, sessionId=29, song='Rockpools', status=200, ts=1538352117000, userAgent='Mozilla/5.0 (Windows NT 6.1; WOW64; rv:31.0) Gecko/20100101 Firefox/31.0', userId='30', time='2018-10-01 00:01:57')"
      ]
     },
     "execution_count": 79,
     "metadata": {},
     "output_type": "execute_result"
    }
   ],
   "source": [
    "#dataframe head\n",
    "df.head()"
   ]
  },
  {
   "cell_type": "code",
   "execution_count": 80,
   "metadata": {},
   "outputs": [],
   "source": [
    "#Define churn"
   ]
  },
  {
   "cell_type": "code",
   "execution_count": 81,
   "metadata": {},
   "outputs": [],
   "source": [
    "#Create downgrade label\n",
    "flag_downgrade_event = udf(lambda x: 1 if x == \"Submit Downgrade\" else 0, IntegerType())\n",
    "df= df.withColumn(\"downgrade_event\", flag_downgrade_event(\"page\"))\n",
    "\n",
    "# label downgraded users\n",
    "windowval = Window.partitionBy('userId')\n",
    "df = df.withColumn('downgrade', max('downgrade_event').over(windowval))\n",
    "\n",
    "# create the churn label\n",
    "flag_churn_event = udf(lambda x: 1 if x == 'Cancellation Confirmation' else 0, IntegerType())\n",
    "df = df.withColumn('churn_event', flag_churn_event('page'))\n",
    "\n",
    "# label churned users  \n",
    "windowval = Window.partitionBy('userId')\n",
    "df= df.withColumn('churn', max('churn_event').over(windowval))"
   ]
  },
  {
   "cell_type": "code",
   "execution_count": 82,
   "metadata": {},
   "outputs": [
    {
     "name": "stdout",
     "output_type": "stream",
     "text": [
      "+------+-----+---------+\n",
      "|userId|churn|downgrade|\n",
      "+------+-----+---------+\n",
      "|100010|    0|        0|\n",
      "|200002|    0|        0|\n",
      "|   125|    1|        0|\n",
      "|   124|    0|        0|\n",
      "|    51|    1|        0|\n",
      "|     7|    0|        0|\n",
      "|    15|    0|        0|\n",
      "|    54|    1|        1|\n",
      "|   155|    0|        0|\n",
      "|100014|    1|        0|\n",
      "|   132|    0|        0|\n",
      "|   154|    0|        0|\n",
      "|   101|    1|        0|\n",
      "|    11|    0|        1|\n",
      "|   138|    0|        0|\n",
      "|300017|    0|        0|\n",
      "|100021|    1|        0|\n",
      "|    29|    1|        0|\n",
      "|    69|    0|        0|\n",
      "|   112|    0|        0|\n",
      "+------+-----+---------+\n",
      "only showing top 20 rows\n",
      "\n"
     ]
    }
   ],
   "source": [
    "df.select(['userId', 'churn', 'downgrade']).dropDuplicates().show(20)"
   ]
  },
  {
   "cell_type": "code",
   "execution_count": 83,
   "metadata": {},
   "outputs": [
    {
     "name": "stdout",
     "output_type": "stream",
     "text": [
      "+--------------------+\n",
      "|                page|\n",
      "+--------------------+\n",
      "|              Cancel|\n",
      "|    Submit Downgrade|\n",
      "|         Thumbs Down|\n",
      "|                Home|\n",
      "|           Downgrade|\n",
      "|         Roll Advert|\n",
      "|              Logout|\n",
      "|       Save Settings|\n",
      "|Cancellation Conf...|\n",
      "|               About|\n",
      "|            Settings|\n",
      "|     Add to Playlist|\n",
      "|          Add Friend|\n",
      "|            NextSong|\n",
      "|           Thumbs Up|\n",
      "|                Help|\n",
      "|             Upgrade|\n",
      "|               Error|\n",
      "|      Submit Upgrade|\n",
      "+--------------------+\n",
      "\n"
     ]
    }
   ],
   "source": [
    "df.select('page').dropDuplicates().show()"
   ]
  },
  {
   "cell_type": "code",
   "execution_count": 84,
   "metadata": {},
   "outputs": [
    {
     "data": {
      "text/plain": [
       "[Row(artist='Sleeping With Sirens', auth='Logged In', firstName='Darianna', gender='F', itemInSession=0, lastName='Carpenter', length=202.97098, level='free', location='Bridgeport-Stamford-Norwalk, CT', method='PUT', page='NextSong', registration=1538016340000, sessionId=31, song='Captain Tyin Knots VS Mr Walkway (No Way)', status=200, ts=1539003534000, userAgent='\"Mozilla/5.0 (iPhone; CPU iPhone OS 7_1_2 like Mac OS X) AppleWebKit/537.51.2 (KHTML, like Gecko) Version/7.0 Mobile/11D257 Safari/9537.53\"', userId='100010', time='2018-10-08 12:58:54', downgrade_event=0, downgrade=0, churn_event=0, churn=0)]"
      ]
     },
     "execution_count": 84,
     "metadata": {},
     "output_type": "execute_result"
    }
   ],
   "source": [
    "df.head(1)"
   ]
  },
  {
   "cell_type": "code",
   "execution_count": 85,
   "metadata": {},
   "outputs": [],
   "source": [
    "#Customer lifetime statistics¶\n",
    "lifetime = df.where('page == \"NextSong\" OR page == \"Thumbs Up\"').groupby(['userId', 'churn', 'gender', 'page']).count().toPandas()\n",
    "lifetime = lifetime.pivot_table(index=['userId','churn','gender'], values='count', columns='page').reset_index()"
   ]
  },
  {
   "cell_type": "code",
   "execution_count": 86,
   "metadata": {},
   "outputs": [
    {
     "data": {
      "image/png": "[encoded data removed]",
      "text/plain": [
       "<matplotlib.figure.Figure at 0x7fa865c6eb38>"
      ]
     },
     "metadata": {
      "needs_background": "light"
     },
     "output_type": "display_data"
    }
   ],
   "source": [
    "#violin plot for lifetime \n",
    "ax = sns.violinplot(data=lifetime, x='churn', y='NextSong', hue='gender')\n",
    "plt.xlabel('Customer not churned and churned ')\n",
    "plt.ylabel('Lifetime songs listened')\n",
    "plt.legend(title='Gender', loc='best')\n",
    "sns.despine(ax=ax);\n",
    "#lifetime songs changed for customers who didn't churn"
   ]
  },
  {
   "cell_type": "code",
   "execution_count": 19,
   "metadata": {},
   "outputs": [
    {
     "data": {
      "text/plain": [
       "<matplotlib.legend.Legend at 0x7fa865d13b70>"
      ]
     },
     "execution_count": 19,
     "metadata": {},
     "output_type": "execute_result"
    },
    {
     "data": {
      "image/png": "[encoded data removed]",
      "text/plain": [
       "<matplotlib.figure.Figure at 0x7fa865d2b7b8>"
      ]
     },
     "metadata": {
      "needs_background": "light"
     },
     "output_type": "display_data"
    }
   ],
   "source": [
    "#Bar plot for genders likely to churn\n",
    "churnbygender= df.dropDuplicates([\"userId\", \"gender\"]).groupby([\"churn\", \"gender\"]).count().sort(\"churn\").toPandas()\n",
    "ax = sns.barplot(x='churn', y='count', hue='gender', data=churnbygender)\n",
    "plt.title('Genders likely to churn')\n",
    "plt.xlabel('Customer not churned and churned')\n",
    "plt.ylabel('Counts')\n",
    "plt.legend(title='Gender', loc='best')\n",
    "#Males are more likely to churn than females"
   ]
  },
  {
   "cell_type": "code",
   "execution_count": 88,
   "metadata": {},
   "outputs": [
    {
     "data": {
      "image/png": "[encoded data removed]",
      "text/plain": [
       "<matplotlib.figure.Figure at 0x7fa865ca6cc0>"
      ]
     },
     "metadata": {
      "needs_background": "light"
     },
     "output_type": "display_data"
    }
   ],
   "source": [
    "# violin plot time since registration\n",
    "lt= df.select('userId','registration','ts','churn').withColumn('lifetime',(df.ts-df.registration)).groupBy('userId','churn') \\\n",
    "    .agg({'lifetime':'max'}).withColumnRenamed('max(lifetime)','lifetime').select('userId', 'churn', (col('lifetime')/1000/3600/24).alias('lifetime')) \\\n",
    "    .toPandas()\n",
    "\n",
    "songspergender = df.where('page == \"NextSong\"').groupby(['churn', 'userId', 'sessionId','gender']).count()\\\n",
    "    .groupby(['churn', 'userId', 'gender']).agg({'count':'avg'})\\\n",
    "    .withColumnRenamed('avg(count)', 'avg_songs_played')\\\n",
    "    .toPandas()\n",
    "\n",
    "ax = sns.violinplot('churn', y='avg_songs_played', hue='gender', data=songspergender)\n",
    "plt.xlabel('Customer not churned and churned')\n",
    "plt.ylabel('Average songs played per session')\n",
    "plt.legend(title='Gender', loc='best', ncol=2)\n",
    "sns.despine(ax=ax);"
   ]
  },
  {
   "cell_type": "code",
   "execution_count": 89,
   "metadata": {},
   "outputs": [
    {
     "name": "stdout",
     "output_type": "stream",
     "text": [
      "+-------+------------------+-------------------+\n",
      "|summary|            userId|           lifetime|\n",
      "+-------+------------------+-------------------+\n",
      "|  count|               225|                225|\n",
      "|   mean|65391.013333333336|   79.8456834876543|\n",
      "| stddev|105396.47791907164|  37.66147001861254|\n",
      "|    min|                10|0.31372685185185184|\n",
      "|    max|                99|  256.3776736111111|\n",
      "+-------+------------------+-------------------+\n",
      "\n"
     ]
    }
   ],
   "source": [
    "#Time since registration\n",
    "Timeregistration = df.select('userId','registration','ts').withColumn('lifetime',(df.ts-df.registration)).groupBy('userId') \\\n",
    "    .agg({'lifetime':'max'}).withColumnRenamed('max(lifetime)','lifetime').select('userId', (col('lifetime')/1000/3600/24).alias('lifetime'))\n",
    "Timeregistration.describe().show()"
   ]
  },
  {
   "cell_type": "markdown",
   "metadata": {},
   "source": [
    "# Feature Engineering\n",
    "Once you've familiarized yourself with the data, build out the features you find promising to train your model on. To work with the full dataset, you can follow the following steps.\n",
    "- Write a script to extract the necessary features from the smaller subset of data\n",
    "- Ensure that your script is scalable, using the best practices discussed in Lesson 3\n",
    "- Try your script on the full data set, debugging your script if necessary\n",
    "\n",
    "If you are working in the classroom workspace, you can just extract features based on the small subset of data contained here. Be sure to transfer over this work to the larger dataset when you work on your Spark cluster."
   ]
  },
  {
   "cell_type": "code",
   "execution_count": 90,
   "metadata": {},
   "outputs": [
    {
     "name": "stdout",
     "output_type": "stream",
     "text": [
      "root\n",
      " |-- artist: string (nullable = true)\n",
      " |-- auth: string (nullable = true)\n",
      " |-- firstName: string (nullable = true)\n",
      " |-- gender: string (nullable = true)\n",
      " |-- itemInSession: long (nullable = true)\n",
      " |-- lastName: string (nullable = true)\n",
      " |-- length: double (nullable = true)\n",
      " |-- level: string (nullable = true)\n",
      " |-- location: string (nullable = true)\n",
      " |-- method: string (nullable = true)\n",
      " |-- page: string (nullable = true)\n",
      " |-- registration: long (nullable = true)\n",
      " |-- sessionId: long (nullable = true)\n",
      " |-- song: string (nullable = true)\n",
      " |-- status: long (nullable = true)\n",
      " |-- ts: long (nullable = true)\n",
      " |-- userAgent: string (nullable = true)\n",
      " |-- userId: string (nullable = true)\n",
      " |-- time: string (nullable = true)\n",
      " |-- downgrade_event: integer (nullable = true)\n",
      " |-- downgrade: integer (nullable = true)\n",
      " |-- churn_event: integer (nullable = true)\n",
      " |-- churn: integer (nullable = true)\n",
      "\n"
     ]
    }
   ],
   "source": [
    "df.printSchema()"
   ]
  },
  {
   "cell_type": "code",
   "execution_count": 91,
   "metadata": {},
   "outputs": [],
   "source": [
    "# Feature 1 :  user gender\n",
    "feature1 = df.select('userId', 'gender').dropDuplicates().replace(['F', 'M'], ['0', '1'], 'gender').select('userId', col('gender').cast('int'))"
   ]
  },
  {
   "cell_type": "code",
   "execution_count": 92,
   "metadata": {},
   "outputs": [],
   "source": [
    "# Total number of  songs listened\n",
    "feature2 = df.select('userId', 'song').groupBy('userId').count().withColumnRenamed('count', 'tot_songs')"
   ]
  },
  {
   "cell_type": "code",
   "execution_count": 93,
   "metadata": {},
   "outputs": [],
   "source": [
    "# Number of adds to playlist\n",
    "feature3= df.select('userID','page').where(df.page == 'Add to Playlist').groupBy('userID').agg({'page':'count'}).withColumnRenamed('count(page)', 'add_to_playlist')\n",
    "                                                                                                                                                                                                                                                                   "
   ]
  },
  {
   "cell_type": "code",
   "execution_count": 94,
   "metadata": {},
   "outputs": [
    {
     "name": "stdout",
     "output_type": "stream",
     "text": [
      "+-------+------------------+------------------+\n",
      "|summary|            userID|        add_friend|\n",
      "+-------+------------------+------------------+\n",
      "|  count|               206|               206|\n",
      "|   mean| 66076.91262135922|20.762135922330096|\n",
      "| stddev|106860.60517425007|20.646779074405007|\n",
      "|    min|                10|                 1|\n",
      "|    max|                99|               143|\n",
      "+-------+------------------+------------------+\n",
      "\n"
     ]
    }
   ],
   "source": [
    "#number of friends added \n",
    "feature4 = df.select('userID','page').where(df.page == 'Add Friend').groupBy('userID').count().withColumnRenamed('count', 'add_friend') \n",
    "feature4.describe().show()"
   ]
  },
  {
   "cell_type": "code",
   "execution_count": 95,
   "metadata": {},
   "outputs": [
    {
     "name": "stdout",
     "output_type": "stream",
     "text": [
      "+-------+------------------+------------------+\n",
      "|summary|            userID|       listen_time|\n",
      "+-------+------------------+------------------+\n",
      "|  count|               225|               225|\n",
      "|   mean|65391.013333333336|252558.32065155543|\n",
      "| stddev|105396.47791907164| 275396.4038847635|\n",
      "|    min|                10|         691.66884|\n",
      "|    max|                99|1991154.9155799907|\n",
      "+-------+------------------+------------------+\n",
      "\n"
     ]
    }
   ],
   "source": [
    "#total length time\n",
    "feature5 = df.select('userID','length').groupBy('userID').sum().withColumnRenamed('sum(length)', 'listen_time')\n",
    "feature5.describe().show()"
   ]
  },
  {
   "cell_type": "code",
   "execution_count": 96,
   "metadata": {},
   "outputs": [
    {
     "name": "stdout",
     "output_type": "stream",
     "text": [
      "+-------+------------------+-----------------+\n",
      "|summary|            userId| avg_songs_played|\n",
      "+-------+------------------+-----------------+\n",
      "|  count|               225|              225|\n",
      "|   mean|65391.013333333336|70.78971233958933|\n",
      "| stddev|105396.47791907164| 42.6153697543817|\n",
      "|    min|                10|              3.0|\n",
      "|    max|                99|286.6666666666667|\n",
      "+-------+------------------+-----------------+\n",
      "\n"
     ]
    }
   ],
   "source": [
    "# Average number of songs listened per session\n",
    "feature6 = df.where('page == \"NextSong\"').groupby(['userId', 'sessionId']).count().groupby(['userId']).agg({'count':'avg'}).withColumnRenamed('avg(count)', 'avg_songs_played')\n",
    "feature6.describe().show()"
   ]
  },
  {
   "cell_type": "code",
   "execution_count": 97,
   "metadata": {},
   "outputs": [
    {
     "name": "stdout",
     "output_type": "stream",
     "text": [
      "+-------+------------------+-----------------+\n",
      "|summary|            userId|tot_artist_played|\n",
      "+-------+------------------+-----------------+\n",
      "|  count|               225|              225|\n",
      "|   mean|65391.013333333336|696.3777777777777|\n",
      "| stddev|105396.47791907164|603.9518698630802|\n",
      "|    min|                10|                3|\n",
      "|    max|                99|             3544|\n",
      "+-------+------------------+-----------------+\n",
      "\n"
     ]
    }
   ],
   "source": [
    "#Total number of artists the user has listened to\n",
    "feature7 = df.filter(df.page == \"NextSong\").select(\"userId\", \"artist\").dropDuplicates().groupby(\"userId\").count().withColumnRenamed(\"count\", \"tot_artist_played\")\n",
    "feature7.describe().show()"
   ]
  },
  {
   "cell_type": "code",
   "execution_count": 98,
   "metadata": {},
   "outputs": [
    {
     "name": "stdout",
     "output_type": "stream",
     "text": [
      "+------+---------------+\n",
      "|userId|tot_thumbs_down|\n",
      "+------+---------------+\n",
      "|100010|              5|\n",
      "|200002|              6|\n",
      "|    51|             21|\n",
      "|   124|             41|\n",
      "|     7|              1|\n",
      "|    15|             14|\n",
      "|    54|             29|\n",
      "|   155|              3|\n",
      "|   132|             17|\n",
      "|100014|              3|\n",
      "|   101|             16|\n",
      "|    11|              9|\n",
      "|   138|             24|\n",
      "|300017|             28|\n",
      "|    29|             22|\n",
      "|    69|              9|\n",
      "|100021|              5|\n",
      "|    42|             25|\n",
      "|   112|              3|\n",
      "|    73|              7|\n",
      "+------+---------------+\n",
      "only showing top 20 rows\n",
      "\n"
     ]
    }
   ],
   "source": [
    "#  Number of thumbs down\n",
    "feature8 = df.select('userId', 'page').where(df.page == 'Thumbs Down').groupBy('userId').count().withColumnRenamed('count', 'tot_thumbs_down')\n",
    "feature8.show()"
   ]
  },
  {
   "cell_type": "code",
   "execution_count": 99,
   "metadata": {},
   "outputs": [
    {
     "name": "stdout",
     "output_type": "stream",
     "text": [
      "+------+-----------+\n",
      "|userId|churn_label|\n",
      "+------+-----------+\n",
      "|100010|          0|\n",
      "|200002|          0|\n",
      "|   125|          1|\n",
      "|   124|          0|\n",
      "|    51|          1|\n",
      "|     7|          0|\n",
      "|    15|          0|\n",
      "|    54|          1|\n",
      "|   155|          0|\n",
      "|100014|          1|\n",
      "|   132|          0|\n",
      "|   154|          0|\n",
      "|   101|          1|\n",
      "|    11|          0|\n",
      "|   138|          0|\n",
      "|300017|          0|\n",
      "|100021|          1|\n",
      "|    29|          1|\n",
      "|    69|          0|\n",
      "|   112|          0|\n",
      "+------+-----------+\n",
      "only showing top 20 rows\n",
      "\n"
     ]
    }
   ],
   "source": [
    "#Total number of artists the user has listened to\n",
    "feature9 =  df.select(\"userId\", col(\"churn\").cast(\"int\").alias(\"churn_label\")).dropDuplicates()\n",
    "feature9.show()"
   ]
  },
  {
   "cell_type": "code",
   "execution_count": 100,
   "metadata": {},
   "outputs": [],
   "source": [
    "#Merge all the features\n",
    "final_data = feature1.join(feature2, 'userId', 'inner').join(feature3, 'userId', 'inner').join(feature4, 'userId', 'inner')\\\n",
    "             .join(feature5, 'userId', 'inner').join(feature6, 'userId', 'inner').join(feature7, 'userId', 'inner')\\\n",
    "             .join(feature8, 'userId', 'inner').join(feature9, 'userId', 'inner')\n",
    "\n"
   ]
  },
  {
   "cell_type": "code",
   "execution_count": 101,
   "metadata": {},
   "outputs": [
    {
     "name": "stdout",
     "output_type": "stream",
     "text": [
      "+------+------+---------+---------------+----------+------------------+------------------+-----------------+---------------+-----------+\n",
      "|userId|gender|tot_songs|add_to_playlist|add_friend|       listen_time|  avg_songs_played|tot_artist_played|tot_thumbs_down|churn_label|\n",
      "+------+------+---------+---------------+----------+------------------+------------------+-----------------+---------------+-----------+\n",
      "|100010|     0|      381|              7|         4| 66940.89735000003|39.285714285714285|              252|              5|          0|\n",
      "|200002|     1|      474|              8|         4| 94008.87593999993|              64.5|              339|              6|          0|\n",
      "|   124|     0|     4825|            118|        74|1012312.0927899999|145.67857142857142|             2232|             41|          0|\n",
      "|    51|     1|     2464|             52|        28| 523275.8428000004|             211.1|             1385|             21|          1|\n",
      "|     7|     1|      201|              5|         1| 38034.08710000002|21.428571428571427|              142|              1|          0|\n",
      "+------+------+---------+---------------+----------+------------------+------------------+-----------------+---------------+-----------+\n",
      "only showing top 5 rows\n",
      "\n"
     ]
    }
   ],
   "source": [
    "#show head of final data\n",
    "final_data.show(5)"
   ]
  },
  {
   "cell_type": "code",
   "execution_count": 102,
   "metadata": {},
   "outputs": [],
   "source": [
    "#dataframe for modeling sorted by userID\n",
    "df_model = final_data.sort(\"userId\")"
   ]
  },
  {
   "cell_type": "code",
   "execution_count": 103,
   "metadata": {},
   "outputs": [
    {
     "name": "stdout",
     "output_type": "stream",
     "text": [
      "+------+------+---------+---------------+----------+------------------+------------------+-----------------+---------------+-----------+\n",
      "|userId|gender|tot_songs|add_to_playlist|add_friend|       listen_time|  avg_songs_played|tot_artist_played|tot_thumbs_down|churn_label|\n",
      "+------+------+---------+---------------+----------+------------------+------------------+-----------------+---------------+-----------+\n",
      "|    10|     1|      795|              9|        12|166866.37251000004|112.16666666666667|              565|              4|          0|\n",
      "|   100|     1|     3214|             61|        49|  672877.856590001| 78.88235294117646|             1705|             27|          0|\n",
      "|100001|     0|      187|              3|         2|35073.742150000005|             33.25|              125|              2|          1|\n",
      "|100004|     0|     1245|             23|        19|231480.38928999988|              47.1|              733|             11|          0|\n",
      "|100005|     1|      216|              3|         3| 37037.12201000001|              38.5|              149|              3|          1|\n",
      "+------+------+---------+---------------+----------+------------------+------------------+-----------------+---------------+-----------+\n",
      "only showing top 5 rows\n",
      "\n"
     ]
    }
   ],
   "source": [
    "#Show model dataframe\n",
    "df_model.show(5)"
   ]
  },
  {
   "cell_type": "code",
   "execution_count": 104,
   "metadata": {},
   "outputs": [],
   "source": [
    "#saving the data to csv file\n",
    "file = \"data.csv\"\n",
    "df_model.write.save(file, format=\"csv\", header=True, mode='overwrite')"
   ]
  },
  {
   "cell_type": "markdown",
   "metadata": {},
   "source": [
    "# Modeling\n",
    "Split the full dataset into train, test, and validation sets. Test out several of the machine learning methods you learned. Evaluate the accuracy of the various models, tuning parameters as necessary. Determine your winning model based on test accuracy and report results on the validation set. Since the churned users are a fairly small subset, I suggest using F1 score as the metric to optimize."
   ]
  },
  {
   "cell_type": "code",
   "execution_count": 105,
   "metadata": {},
   "outputs": [
    {
     "data": {
      "text/plain": [
       "['userId',\n",
       " 'gender',\n",
       " 'tot_songs',\n",
       " 'add_to_playlist',\n",
       " 'add_friend',\n",
       " 'listen_time',\n",
       " 'avg_songs_played',\n",
       " 'tot_artist_played',\n",
       " 'tot_thumbs_down',\n",
       " 'churn_label']"
      ]
     },
     "execution_count": 105,
     "metadata": {},
     "output_type": "execute_result"
    }
   ],
   "source": [
    "#model columns \n",
    "df_model.columns"
   ]
  },
  {
   "cell_type": "code",
   "execution_count": 106,
   "metadata": {},
   "outputs": [
    {
     "name": "stdout",
     "output_type": "stream",
     "text": [
      "+------+------+---------+---------------+----------+------------------+------------------+-----------------+---------------+-----------+--------------------+\n",
      "|userId|gender|tot_songs|add_to_playlist|add_friend|       listen_time|  avg_songs_played|tot_artist_played|tot_thumbs_down|churn_label|        VectFeatures|\n",
      "+------+------+---------+---------------+----------+------------------+------------------+-----------------+---------------+-----------+--------------------+\n",
      "|100010|     0|      381|              7|         4| 66940.89735000003|39.285714285714285|              252|              5|          0|[0.0,381.0,7.0,4....|\n",
      "|200002|     1|      474|              8|         4| 94008.87593999993|              64.5|              339|              6|          0|[1.0,474.0,8.0,4....|\n",
      "|   124|     0|     4825|            118|        74|1012312.0927899999|145.67857142857142|             2232|             41|          0|[0.0,4825.0,118.0...|\n",
      "|    51|     1|     2464|             52|        28| 523275.8428000004|             211.1|             1385|             21|          1|[1.0,2464.0,52.0,...|\n",
      "|     7|     1|      201|              5|         1| 38034.08710000002|21.428571428571427|              142|              1|          0|[1.0,201.0,5.0,1....|\n",
      "|    15|     1|     2278|             59|        31|477307.60581000015|136.71428571428572|             1302|             14|          0|[1.0,2278.0,59.0,...|\n",
      "|    54|     0|     3437|             72|        33| 711344.9195400011| 81.17142857142858|             1744|             29|          1|[0.0,3437.0,72.0,...|\n",
      "|   155|     0|     1002|             24|        11|       198779.2919|136.66666666666666|              643|              3|          0|[0.0,1002.0,24.0,...|\n",
      "|100014|     1|      310|              7|         6| 67703.47208000004|42.833333333333336|              233|              3|          1|[1.0,310.0,7.0,6....|\n",
      "|   132|     0|     2304|             38|        41| 483118.9038399997|             120.5|             1299|             17|          0|[0.0,2304.0,38.0,...|\n",
      "|   101|     1|     2149|             61|        29| 447464.0146699989|             179.7|             1241|             16|          1|[1.0,2149.0,61.0,...|\n",
      "|    11|     0|      848|             20|         6|159669.96303999983|           40.4375|              534|              9|          0|[0.0,848.0,20.0,6...|\n",
      "|   138|     1|     2469|             67|        41| 512449.8827599989|             138.0|             1332|             24|          0|[1.0,2469.0,67.0,...|\n",
      "|300017|     0|     4428|            113|        63| 897406.9802100015|59.540983606557376|             2070|             28|          0|[0.0,4428.0,113.0...|\n",
      "|100021|     1|      319|              7|         7| 57633.17563999999|              46.0|              207|              5|          1|[1.0,319.0,7.0,7....|\n",
      "|    29|     1|     3603|             89|        47| 754517.5625700009| 89.05882352941177|             1804|             22|          1|[1.0,3603.0,89.0,...|\n",
      "|    69|     0|     1342|             33|        12| 286064.0256399999|             125.0|              865|              9|          0|[0.0,1342.0,33.0,...|\n",
      "|   112|     1|      292|              7|         7| 53062.74659000002| 23.88888888888889|              195|              3|          0|[1.0,292.0,7.0,7....|\n",
      "|    42|     0|     4257|            104|        52| 881792.9661300007| 87.14634146341463|             2073|             25|          0|[0.0,4257.0,104.0...|\n",
      "|    73|     0|      457|             11|        11| 94240.35148000003|62.833333333333336|              334|              7|          1|[0.0,457.0,11.0,1...|\n",
      "+------+------+---------+---------------+----------+------------------+------------------+-----------------+---------------+-----------+--------------------+\n",
      "only showing top 20 rows\n",
      "\n"
     ]
    }
   ],
   "source": [
    "#Assemble input features \n",
    "inputcol = ['gender', 'tot_songs', 'add_to_playlist', 'add_friend', 'listen_time','avg_songs_played','tot_thumbs_down']\n",
    "assmblr = VectorAssembler(inputcol = inputcol, outputCol = \"VectFeatures\")\n",
    "final_data = assmblr.transform(final_data)\n",
    "final_data.show()"
   ]
  },
  {
   "cell_type": "code",
   "execution_count": 107,
   "metadata": {},
   "outputs": [],
   "source": [
    "#Standardize input features to avoid weightage \n",
    "scaler = StandardScaler(inputCol = 'VectFeatures', outputCol = \"newFeatures\", withStd = True)\n",
    "scaler_model = scaler.fit(final_data)\n",
    "final_data = scaler_model.transform(final_data)"
   ]
  },
  {
   "cell_type": "code",
   "execution_count": 108,
   "metadata": {},
   "outputs": [],
   "source": [
    "#final data\n",
    "data = final_data.select(final_data.churn_label.alias(\"label\"), final_data.newFeatures.alias(\"features\"))"
   ]
  },
  {
   "cell_type": "code",
   "execution_count": 109,
   "metadata": {},
   "outputs": [
    {
     "name": "stdout",
     "output_type": "stream",
     "text": [
      "+-----+--------------------+\n",
      "|label|            features|\n",
      "+-----+--------------------+\n",
      "|    0|[0.0,0.2830343354...|\n",
      "|    0|[1.99749598442950...|\n",
      "|    0|[0.0,3.5843587095...|\n",
      "|    1|[1.99749598442950...|\n",
      "|    0|[1.99749598442950...|\n",
      "|    0|[1.99749598442950...|\n",
      "|    1|[0.0,2.5532519968...|\n",
      "|    0|[0.0,0.7443580159...|\n",
      "|    1|[1.99749598442950...|\n",
      "|    0|[0.0,1.7115777133...|\n",
      "|    1|[1.99749598442950...|\n",
      "|    0|[0.0,0.6299556861...|\n",
      "|    0|[1.99749598442950...|\n",
      "|    0|[0.0,3.2894384178...|\n",
      "|    1|[1.99749598442950...|\n",
      "|    1|[1.99749598442950...|\n",
      "|    0|[0.0,0.9969345882...|\n",
      "|    0|[1.99749598442950...|\n",
      "|    0|[0.0,3.1624072594...|\n",
      "|    1|[0.0,0.3394926280...|\n",
      "+-----+--------------------+\n",
      "only showing top 20 rows\n",
      "\n"
     ]
    }
   ],
   "source": [
    "#show final data\n",
    "data.show()"
   ]
  },
  {
   "cell_type": "code",
   "execution_count": 116,
   "metadata": {},
   "outputs": [],
   "source": [
    "#train and validation set\n",
    "train, val = data.randomSplit([0.85, 0.15], seed = 42)\n",
    "train = train.cache()"
   ]
  },
  {
   "cell_type": "code",
   "execution_count": 117,
   "metadata": {},
   "outputs": [],
   "source": [
    "# Model 1: Support Vector Machine\n",
    "svm_clf = LinearSVC(maxIter = 15)\n",
    "f1_evaluation = MulticlassClassificationEvaluator(metricName = 'f1')\n",
    "param_grid = ParamGridBuilder().build()\n",
    "cross_valid_svm = CrossValidator(estimator = svm_clf, estimatorParamMaps = param_grid, evaluator = f1_evaluation, numFolds = 2)"
   ]
  },
  {
   "cell_type": "code",
   "execution_count": 118,
   "metadata": {},
   "outputs": [
    {
     "data": {
      "text/plain": [
       "[0.7045125857666148]"
      ]
     },
     "execution_count": 118,
     "metadata": {},
     "output_type": "execute_result"
    }
   ],
   "source": [
    "# Support Vector Machine model cross validation\n",
    "cv_model_svm = cross_val_svm.fit(train)\n",
    "cv_model_svm.avgMetrics"
   ]
  },
  {
   "cell_type": "code",
   "execution_count": 120,
   "metadata": {},
   "outputs": [],
   "source": [
    "#Results Support Vector Machine model cross validation\n",
    "results_svm = cv_model_svm.transform(val)"
   ]
  },
  {
   "cell_type": "code",
   "execution_count": 121,
   "metadata": {},
   "outputs": [
    {
     "name": "stdout",
     "output_type": "stream",
     "text": [
      "The F-1 Score is 0.6956521739130435\n",
      "The accuracy is 0.5707915273132664\n"
     ]
    }
   ],
   "source": [
    "#Evaluate the model using F1 and accuracy\n",
    "evaluator = MulticlassClassificationEvaluator(predictionCol = \"prediction\")\n",
    "print(\"The F-1 Score is {}\".format(evaluator.evaluate(results_svm, {evaluator.metricName : \"accuracy\"})))\n",
    "print(\"The accuracy is {}\".format(evaluator.evaluate(results_svm, {evaluator.metricName : \"f1\"})))"
   ]
  },
  {
   "cell_type": "code",
   "execution_count": 133,
   "metadata": {},
   "outputs": [],
   "source": [
    "#Model 2: Random Forest Classifier\n",
    "rand_forest_clf = RandomForestClassifier()\n",
    "f1_evaluation = MulticlassClassificationEvaluator(metricName = 'f1')\n",
    "param_grid = ParamGridBuilder().build()\n",
    "cross_val_rf = CrossValidator(estimator = rand_forest_clf, estimatorParamMaps = param_grid, evaluator = f1_evaluation, numFolds = 2)"
   ]
  },
  {
   "cell_type": "code",
   "execution_count": 141,
   "metadata": {},
   "outputs": [
    {
     "data": {
      "text/plain": [
       "[0.6871476632785609]"
      ]
     },
     "execution_count": 141,
     "metadata": {},
     "output_type": "execute_result"
    }
   ],
   "source": [
    "#Random Forest Classifier cross validation\n",
    "cv_model_rf = cross_val_rf.fit(train)\n",
    "cv_model_rf.avgMetrics"
   ]
  },
  {
   "cell_type": "code",
   "execution_count": 142,
   "metadata": {},
   "outputs": [],
   "source": [
    "#Results Random Forest Classifier crossvalidation \n",
    "results_rand_forest = cv_model_rf.transform(val)"
   ]
  },
  {
   "cell_type": "code",
   "execution_count": 143,
   "metadata": {},
   "outputs": [
    {
     "name": "stdout",
     "output_type": "stream",
     "text": [
      "The F-1 Score is 0.7391304347826086\n",
      "The accuracy is 0.6618993135011442\n"
     ]
    }
   ],
   "source": [
    "#Evaluation metrics for Random Forest Classifier\n",
    "evaluator = MulticlassClassificationEvaluator(predictionCol = \"prediction\")\n",
    "print(\"The F-1 Score is {}\".format(evaluator.evaluate(results_rand_forest, {evaluator.metricName : \"accuracy\"})))\n",
    "print(\"The accuracy is {}\".format(evaluator.evaluate(results_rand_forest, {evaluator.metricName : \"f1\"})))"
   ]
  },
  {
   "cell_type": "code",
   "execution_count": 144,
   "metadata": {},
   "outputs": [],
   "source": [
    "#Gradient Boosted Trees \n",
    "G_B_T = GBTClassifier(maxIter = 10, maxDepth = 10, seed = 42)\n",
    "f1_evaluation = MulticlassClassificationEvaluator(metricName = 'f1')\n",
    "param_grid = ParamGridBuilder().build()\n",
    "cross_val_gbt = CrossValidator(estimator = G_B_T, estimatorParamMaps = param_grid, evaluator = f1_evaluation, numFolds = 2)"
   ]
  },
  {
   "cell_type": "code",
   "execution_count": 145,
   "metadata": {},
   "outputs": [
    {
     "data": {
      "text/plain": [
       "[0.6974126183697039]"
      ]
     },
     "execution_count": 145,
     "metadata": {},
     "output_type": "execute_result"
    }
   ],
   "source": [
    "#Gradient Boosted Trees cross validation\n",
    "cv_model_gbt = cross_val_gbt.fit(train)\n",
    "cv_model_gbt.avgMetrics"
   ]
  },
  {
   "cell_type": "code",
   "execution_count": 139,
   "metadata": {},
   "outputs": [],
   "source": [
    "#Results Gradient Boosted Trees cross validation\n",
    "results_gbt = cv_model_gbt.transform(val)"
   ]
  },
  {
   "cell_type": "code",
   "execution_count": 140,
   "metadata": {},
   "outputs": [
    {
     "name": "stdout",
     "output_type": "stream",
     "text": [
      "The F-1 Score is 0.6521739130434783\n",
      "The accuracy is 0.6521739130434783\n"
     ]
    }
   ],
   "source": [
    "#Evaluation Gradient Boosted Trees cross validation\n",
    "Evaluator = MulticlassClassificationEvaluator(predictionCol = \"prediction\")\n",
    "print(\"The F-1 Score is {}\".format(evaluator.evaluate(results_gbt, {evaluator.metricName : \"accuracy\"})))\n",
    "print(\"The accuracy is {}\".format(evaluator.evaluate(results_gbt, {evaluator.metricName : \"f1\"})))"
   ]
  },
  {
   "cell_type": "markdown",
   "metadata": {},
   "source": [
    "# Final Steps\n",
    "Clean up your code, adding comments and renaming variables to make the code easier to read and maintain. Refer to the Spark Project Overview page and Data Scientist Capstone Project Rubric to make sure you are including all components of the capstone project and meet all expectations. Remember, this includes thorough documentation in a README file in a Github repository, as well as a web app or blog post."
   ]
  },
  {
   "cell_type": "code",
   "execution_count": null,
   "metadata": {},
   "outputs": [],
   "source": []
  }
 ],
 "metadata": {
  "kernelspec": {
   "display_name": "Python 3",
   "language": "python",
   "name": "python3"
  },
  "language_info": {
   "codemirror_mode": {
    "name": "ipython",
    "version": 3
   },
   "file_extension": ".py",
   "mimetype": "text/x-python",
   "name": "python",
   "nbconvert_exporter": "python",
   "pygments_lexer": "ipython3",
   "version": "3.6.3"
  }
 },
 "nbformat": 4,
 "nbformat_minor": 2
}
